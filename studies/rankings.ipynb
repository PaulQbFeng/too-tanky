{
 "cells": [
  {
   "cell_type": "markdown",
   "id": "c98a5d2e-e6e6-497f-991a-0cf9d3caa4d1",
   "metadata": {},
   "source": [
    "# Rankings\n",
    "\n",
    "List champions with the highest or lowest AD, DPS, HP, Armor..."
   ]
  },
  {
   "cell_type": "markdown",
   "id": "452ad3c1-c6d4-4bbc-8bd4-3238be5a652c",
   "metadata": {
    "jp-MarkdownHeadingCollapsed": true,
    "tags": []
   },
   "source": [
    "## Initialization"
   ]
  },
  {
   "cell_type": "code",
   "execution_count": null,
   "id": "08844d09-7bf6-4fe5-a484-579f07324db7",
   "metadata": {},
   "outputs": [],
   "source": [
    "import matplotlib.pyplot as plt\n",
    "import os\n",
    "os.chdir(\"..\")\n",
    "from tootanky.champions import ALL_CHAMPIONS"
   ]
  },
  {
   "cell_type": "code",
   "execution_count": null,
   "id": "5de1b2f0-92be-4b92-afd3-2a7ea38750c4",
   "metadata": {},
   "outputs": [],
   "source": [
    "def plot(ax, ranking, label=None, title=None):\n",
    "    names, values = zip(*ranking)\n",
    "    ax.bar(names, values)\n",
    "    ax.tick_params(axis='x', labelrotation=45)\n",
    "    if label:\n",
    "        ax.set_ylabel(label)\n",
    "    if title: ax.set_title(title)"
   ]
  },
  {
   "cell_type": "code",
   "execution_count": null,
   "id": "d9f8ac55-c74c-4c0f-8dd5-e9c6240560bc",
   "metadata": {},
   "outputs": [],
   "source": [
    "def plot_top(ranking, label):\n",
    "    fig, ax = plt.subplots(1, 2, figsize=(10,3), sharey=True)\n",
    "    plot(ax[0], ranking[:10], label=label, title='Highest')\n",
    "    plot(ax[1], ranking[-11:], title='Lowest')"
   ]
  },
  {
   "cell_type": "code",
   "execution_count": null,
   "id": "31fc5063-0817-45ac-a851-281b135d2538",
   "metadata": {},
   "outputs": [],
   "source": [
    "champions18 = [C(level=18) for x , C in ALL_CHAMPIONS.items()]"
   ]
  },
  {
   "cell_type": "code",
   "execution_count": null,
   "id": "7de69497-be0c-4dda-a331-6922807c5e11",
   "metadata": {},
   "outputs": [],
   "source": [
    "def sort_by(f, decreasing=True):\n",
    "    return sorted(((c.name, f(c)) for c in champions18), key=lambda c: c[1], reverse=decreasing)"
   ]
  },
  {
   "cell_type": "markdown",
   "id": "37147101-5213-4ba8-b065-e604bf4255c5",
   "metadata": {},
   "source": [
    "## Level 18"
   ]
  },
  {
   "cell_type": "markdown",
   "id": "463f295f-bcbf-4130-a71b-5d4d00a71f44",
   "metadata": {
    "tags": []
   },
   "source": [
    "### Top Attack Damage"
   ]
  },
  {
   "cell_type": "code",
   "execution_count": null,
   "id": "97d36c26-8ceb-475a-bb6e-a3d56e181131",
   "metadata": {},
   "outputs": [],
   "source": [
    "highest_ad = sort_by(lambda c: c.attack_damage)\n",
    "plot_top(highest_ad, 'AD')"
   ]
  },
  {
   "cell_type": "markdown",
   "id": "55dae04c-6bd9-4398-990e-21a99e0a94d2",
   "metadata": {
    "tags": []
   },
   "source": [
    "### Top raw DPS\n",
    "\n",
    "`attack_damage * attack_speed`, does not take into account passives or any other effect."
   ]
  },
  {
   "cell_type": "code",
   "execution_count": null,
   "id": "8bf842a1-65c1-4060-a8c5-202a3a077dd9",
   "metadata": {
    "tags": []
   },
   "outputs": [],
   "source": [
    "highest_dps = sort_by(lambda c: c.attack_damage * c.attack_speed)\n",
    "plot_top(highest_dps, 'DPS')"
   ]
  },
  {
   "cell_type": "markdown",
   "id": "bfced2d9-c64d-4ab0-97e5-9a7cbd3d21b5",
   "metadata": {},
   "source": [
    "### Top Health Points"
   ]
  },
  {
   "cell_type": "code",
   "execution_count": null,
   "id": "791372fe-0acc-406f-9081-c4365190e7db",
   "metadata": {
    "tags": []
   },
   "outputs": [],
   "source": [
    "highest_hp = sort_by(lambda c: c.health)\n",
    "plot_top(highest_hp, 'HP')"
   ]
  },
  {
   "cell_type": "markdown",
   "id": "20f70e3d-c274-4531-8743-4ec9b1ae5bc4",
   "metadata": {},
   "source": [
    "### Top Armor"
   ]
  },
  {
   "cell_type": "code",
   "execution_count": null,
   "id": "02b47525-949c-4e1a-b33e-c5f6acf6c0d9",
   "metadata": {},
   "outputs": [],
   "source": [
    "highest_armor = sort_by(lambda c: c.armor)\n",
    "plot_top(highest_armor, 'Armor')"
   ]
  }
 ],
 "metadata": {
  "kernelspec": {
   "display_name": "Python 3 (ipykernel)",
   "language": "python",
   "name": "python3"
  },
  "language_info": {
   "codemirror_mode": {
    "name": "ipython",
    "version": 3
   },
   "file_extension": ".py",
   "mimetype": "text/x-python",
   "name": "python",
   "nbconvert_exporter": "python",
   "pygments_lexer": "ipython3",
   "version": "3.11.0"
  }
 },
 "nbformat": 4,
 "nbformat_minor": 5
}
